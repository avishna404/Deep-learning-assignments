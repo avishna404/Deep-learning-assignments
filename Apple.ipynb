{
  "nbformat": 4,
  "nbformat_minor": 0,
  "metadata": {
    "colab": {
      "provenance": [],
      "mount_file_id": "1KhJcVKM9XE_MVNkSkz1L8lKdjzswhvO4",
      "authorship_tag": "ABX9TyOxTgzFSNgBnVHO96MpybmT",
      "include_colab_link": true
    },
    "kernelspec": {
      "name": "python3",
      "display_name": "Python 3"
    },
    "language_info": {
      "name": "python"
    }
  },
  "cells": [
    {
      "cell_type": "markdown",
      "metadata": {
        "id": "view-in-github",
        "colab_type": "text"
      },
      "source": [
        "<a href=\"https://colab.research.google.com/github/avishna404/Deep-learning-assignments/blob/main/Apple.ipynb\" target=\"_parent\"><img src=\"https://colab.research.google.com/assets/colab-badge.svg\" alt=\"Open In Colab\"/></a>"
      ]
    },
    {
      "cell_type": "code",
      "execution_count": 22,
      "metadata": {
        "id": "417jn7ySV-bv"
      },
      "outputs": [],
      "source": [
        "import os\n",
        "import random\n",
        "from PIL import Image\n",
        "\n"
      ]
    },
    {
      "cell_type": "code",
      "source": [
        "apple_img = Image.open(\"/apple.jpg\")\n",
        "\n"
      ],
      "metadata": {
        "id": "G3n1-tTuWDKz"
      },
      "execution_count": 23,
      "outputs": []
    },
    {
      "cell_type": "code",
      "source": [
        "img_width, img_height = apple_img.width*4, apple_img.height*4"
      ],
      "metadata": {
        "id": "TXwHxmeVXOwv"
      },
      "execution_count": 24,
      "outputs": []
    },
    {
      "cell_type": "code",
      "source": [
        "# Create a list of quadrant positions\n",
        "quadrants = ['top_left', 'top_right', 'bottom_left', 'bottom_right']"
      ],
      "metadata": {
        "id": "Y_Pe-H7hXV0l"
      },
      "execution_count": 25,
      "outputs": []
    },
    {
      "cell_type": "code",
      "source": [
        "# Create a directory to save the new images\n",
        "if not os.path.exists('apple_quadrants'):\n",
        "    os.makedirs('apple_quadrants')"
      ],
      "metadata": {
        "id": "c67Jj8LMXcau"
      },
      "execution_count": 26,
      "outputs": []
    },
    {
      "cell_type": "code",
      "source": [
        "# Create a loop to generate 100 images in each quadrant\n",
        "for quadrant in quadrants:\n",
        "    for i in range(100):\n",
        "        # Create a new image\n",
        "        new_img = Image.new('RGB', (img_width, img_height), color='white')\n",
        "\n",
        "        # Generate random coordinates for the apple image\n",
        "        x = random.randint(0, img_width//2 - apple_img.width)\n",
        "        y = random.randint(0, img_height//2 - apple_img.height)"
      ],
      "metadata": {
        "id": "Cco3BD5_Xgwn"
      },
      "execution_count": 27,
      "outputs": []
    },
    {
      "cell_type": "code",
      "source": [
        "if quadrant == 'top_left':\n",
        "     new_img.paste(apple_img, (x, y))\n",
        "elif quadrant == 'top_right':\n",
        "      new_img.paste(apple_img, (x + img_width//2, y))\n",
        "elif quadrant == 'bottom_left':\n",
        "      new_img.paste(apple_img, (x, y + img_height//2))\n",
        "elif quadrant == 'bottom_right':\n",
        "      new_img.paste(apple_img, (x + img_width//2, y + img_height//2))"
      ],
      "metadata": {
        "id": "DTEhTp8MXoGA"
      },
      "execution_count": 28,
      "outputs": []
    },
    {
      "cell_type": "code",
      "source": [
        "filename = f'{quadrant}_{i}.jpg'\n",
        "filepath = os.path.join('apple_quadrants', filename)\n",
        "new_img.save(filepath)\n",
        "print(f'Saved {filepath}')"
      ],
      "metadata": {
        "colab": {
          "base_uri": "https://localhost:8080/"
        },
        "id": "MBS5u_ZLYj-z",
        "outputId": "ffc5dfdf-609c-47ba-ec9e-14d966147165"
      },
      "execution_count": 29,
      "outputs": [
        {
          "output_type": "stream",
          "name": "stdout",
          "text": [
            "Saved apple_quadrants/bottom_right_99.jpg\n"
          ]
        }
      ]
    },
    {
      "cell_type": "code",
      "source": [
        "import os\n",
        "import random\n",
        "import numpy as np\n",
        "from PIL import Image\n",
        "from sklearn.model_selection import train_test_split\n",
        "from tensorflow import keras\n",
        "from tensorflow.keras import layers\n"
      ],
      "metadata": {
        "id": "_odEVZJ-ZAak"
      },
      "execution_count": 30,
      "outputs": []
    },
    {
      "cell_type": "code",
      "source": [
        "data_dir = 'apple_quadrants'\n",
        "quadrants = ['top_left', 'top_right', 'bottom_left', 'bottom_right']\n",
        "data = []\n",
        "labels = []\n",
        "for quadrant in quadrants:\n",
        "    for i in range(100):\n",
        "        filename = f'{quadrant}_{i}.jpg'\n",
        "        filepath = os.path.join(data_dir, filename)\n",
        "        img = Image.open(\"/apple.jpg\")\n",
        "        img = img.resize((200, 200)) # Resize the images to a fixed size\n",
        "        img_arr = np.array(img) / 255.0 # Convert the image to a numpy array and normalize\n",
        "        data.append(img_arr)\n",
        "        labels.append(quadrants.index(quadrant))"
      ],
      "metadata": {
        "id": "Kud_6sx5ZMqD"
      },
      "execution_count": 31,
      "outputs": []
    },
    {
      "cell_type": "code",
      "source": [
        "# Convert data and labels to numpy arrays\n",
        "data = np.array(data)\n",
        "labels = np.array(labels)"
      ],
      "metadata": {
        "id": "tHEO5ZmnZTOh"
      },
      "execution_count": 32,
      "outputs": []
    },
    {
      "cell_type": "code",
      "source": [
        "# Split the data into training and test sets\n",
        "x_train, x_test, y_train, y_test = train_test_split(data, labels, test_size=0.3, random_state=42)\n",
        "\n",
        "# Define the CNN model\n",
        "model = keras.Sequential(\n",
        "    [\n",
        "        layers.Conv2D(32, (3, 3), activation=\"relu\", input_shape=(200, 200, 3)),\n",
        "        layers.MaxPooling2D(pool_size=(2, 2)),\n",
        "        layers.Conv2D(64, (3, 3), activation=\"relu\"),\n",
        "        layers.MaxPooling2D(pool_size=(2, 2)),\n",
        "        layers.Conv2D(128, (3, 3), activation=\"relu\"),\n",
        "        layers.MaxPooling2D(pool_size=(2, 2)),\n",
        "        layers.Flatten(),\n",
        "        layers.Dense(64, activation=\"relu\"),\n",
        "        layers.Dense(4, activation=\"softmax\"),\n",
        "    ]\n",
        ")\n"
      ],
      "metadata": {
        "id": "PEsmeAcKdMzS"
      },
      "execution_count": 33,
      "outputs": []
    },
    {
      "cell_type": "code",
      "source": [],
      "metadata": {
        "id": "-_raEDuOdWxP"
      },
      "execution_count": null,
      "outputs": []
    },
    {
      "cell_type": "code",
      "source": [
        "# Compile the model\n",
        "model.compile(optimizer=\"adam\", loss=\"sparse_categorical_crossentropy\", metrics=[\"accuracy\"])\n",
        "\n",
        "# Train the model\n",
        "model.fit(x_train, y_train, epochs=10, validation_data=(x_test, y_test))\n",
        "\n",
        "# Evaluate the model on the test data\n",
        "test_loss, test_acc = model.evaluate(x_test, y_test)\n",
        "print(f\"Test accuracy: {test_acc}\")"
      ],
      "metadata": {
        "colab": {
          "base_uri": "https://localhost:8080/"
        },
        "id": "jLfSrKROdZxQ",
        "outputId": "8ead799c-2650-419a-f194-c2f14ed1af55"
      },
      "execution_count": 34,
      "outputs": [
        {
          "output_type": "stream",
          "name": "stdout",
          "text": [
            "Epoch 1/10\n",
            "9/9 [==============================] - 24s 2s/step - loss: 1.5200 - accuracy: 0.2393 - val_loss: 1.3870 - val_accuracy: 0.2500\n",
            "Epoch 2/10\n",
            "9/9 [==============================] - 24s 3s/step - loss: 1.3915 - accuracy: 0.2321 - val_loss: 1.3879 - val_accuracy: 0.2083\n",
            "Epoch 3/10\n",
            "9/9 [==============================] - 20s 2s/step - loss: 1.3883 - accuracy: 0.2036 - val_loss: 1.3905 - val_accuracy: 0.2083\n",
            "Epoch 4/10\n",
            "9/9 [==============================] - 22s 2s/step - loss: 1.3858 - accuracy: 0.2679 - val_loss: 1.3895 - val_accuracy: 0.2083\n",
            "Epoch 5/10\n",
            "9/9 [==============================] - 27s 3s/step - loss: 1.3869 - accuracy: 0.2679 - val_loss: 1.3951 - val_accuracy: 0.2083\n",
            "Epoch 6/10\n",
            "9/9 [==============================] - 21s 2s/step - loss: 1.3856 - accuracy: 0.2679 - val_loss: 1.3910 - val_accuracy: 0.2083\n",
            "Epoch 7/10\n",
            "9/9 [==============================] - 22s 2s/step - loss: 1.3857 - accuracy: 0.2679 - val_loss: 1.3901 - val_accuracy: 0.2083\n",
            "Epoch 8/10\n",
            "9/9 [==============================] - 23s 3s/step - loss: 1.3850 - accuracy: 0.2679 - val_loss: 1.3918 - val_accuracy: 0.2083\n",
            "Epoch 9/10\n",
            "9/9 [==============================] - 20s 2s/step - loss: 1.3852 - accuracy: 0.2464 - val_loss: 1.3957 - val_accuracy: 0.2083\n",
            "Epoch 10/10\n",
            "9/9 [==============================] - 22s 2s/step - loss: 1.3853 - accuracy: 0.2679 - val_loss: 1.3963 - val_accuracy: 0.2083\n",
            "4/4 [==============================] - 2s 474ms/step - loss: 1.3963 - accuracy: 0.2083\n",
            "Test accuracy: 0.2083333283662796\n"
          ]
        }
      ]
    }
  ]
}